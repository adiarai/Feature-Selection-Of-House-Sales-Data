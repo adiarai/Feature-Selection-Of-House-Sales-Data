{
 "cells": [
  {
   "cell_type": "markdown",
   "id": "98d7f2fe",
   "metadata": {},
   "source": [
    "# Project - Parameters with Highest Impact on House Prices\n",
    "Goal of Project\n",
    "A real estate dealer wants to figure out what matters most when selling a house\n",
    "They provide various sales data\n",
    "Your job is to figure out which 10 parameters (features) matter the most and present the findings\n"
   ]
  },
  {
   "cell_type": "markdown",
   "id": "c159e38f",
   "metadata": {},
   "source": [
    "# Step 1: Acquire\n",
    "Explore problem\n",
    "Identify data\n",
    "Import data\n",
    "Step 1.a: Import libraries\n",
    "Execute the cell below (SHIFT + ENTER)\n",
    "NOTE: You might need to install mlxtend, if so, run the following in a cell\n",
    "!pip install mlxtend"
   ]
  },
  {
   "cell_type": "markdown",
   "id": "1d486bc9",
   "metadata": {},
   "source": [
    "# Step 1.b: Read the data\n",
    "Use pd.read_parquet() to read the file files/house_sales.parquet\n",
    "NOTE: Remember to assign the result to a variable (e.g., data)\n",
    "Apply .head() on the data to see all is as expected\n",
    "The target is SalePrice"
   ]
  },
  {
   "cell_type": "code",
   "execution_count": 1,
   "id": "6a15b42e",
   "metadata": {},
   "outputs": [],
   "source": [
    "import pandas as pd\n",
    "from sklearn.feature_selection import VarianceThreshold\n",
    "from sklearn.model_selection import train_test_split\n",
    "from mlxtend.feature_selection import SequentialFeatureSelector as SFS\n",
    "from sklearn.linear_model import LinearRegression \n",
    "from sklearn.metrics import r2_score"
   ]
  },
  {
   "cell_type": "code",
   "execution_count": 2,
   "id": "c513bf00",
   "metadata": {},
   "outputs": [
    {
     "data": {
      "text/html": [
       "<div>\n",
       "<style scoped>\n",
       "    .dataframe tbody tr th:only-of-type {\n",
       "        vertical-align: middle;\n",
       "    }\n",
       "\n",
       "    .dataframe tbody tr th {\n",
       "        vertical-align: top;\n",
       "    }\n",
       "\n",
       "    .dataframe thead th {\n",
       "        text-align: right;\n",
       "    }\n",
       "</style>\n",
       "<table border=\"1\" class=\"dataframe\">\n",
       "  <thead>\n",
       "    <tr style=\"text-align: right;\">\n",
       "      <th></th>\n",
       "      <th>MSSubClass</th>\n",
       "      <th>LotFrontage</th>\n",
       "      <th>LotArea</th>\n",
       "      <th>Street</th>\n",
       "      <th>LotShape</th>\n",
       "      <th>LandContour</th>\n",
       "      <th>Utilities</th>\n",
       "      <th>LandSlope</th>\n",
       "      <th>OverallQual</th>\n",
       "      <th>OverallCond</th>\n",
       "      <th>...</th>\n",
       "      <th>OpenPorchSF</th>\n",
       "      <th>EnclosedPorch</th>\n",
       "      <th>3SsnPorch</th>\n",
       "      <th>ScreenPorch</th>\n",
       "      <th>PoolArea</th>\n",
       "      <th>PoolQC</th>\n",
       "      <th>MiscVal</th>\n",
       "      <th>MoSold</th>\n",
       "      <th>YrSold</th>\n",
       "      <th>SalePrice</th>\n",
       "    </tr>\n",
       "    <tr>\n",
       "      <th>Id</th>\n",
       "      <th></th>\n",
       "      <th></th>\n",
       "      <th></th>\n",
       "      <th></th>\n",
       "      <th></th>\n",
       "      <th></th>\n",
       "      <th></th>\n",
       "      <th></th>\n",
       "      <th></th>\n",
       "      <th></th>\n",
       "      <th></th>\n",
       "      <th></th>\n",
       "      <th></th>\n",
       "      <th></th>\n",
       "      <th></th>\n",
       "      <th></th>\n",
       "      <th></th>\n",
       "      <th></th>\n",
       "      <th></th>\n",
       "      <th></th>\n",
       "      <th></th>\n",
       "    </tr>\n",
       "  </thead>\n",
       "  <tbody>\n",
       "    <tr>\n",
       "      <th>1</th>\n",
       "      <td>60</td>\n",
       "      <td>65.0</td>\n",
       "      <td>8450</td>\n",
       "      <td>1</td>\n",
       "      <td>3</td>\n",
       "      <td>3</td>\n",
       "      <td>3</td>\n",
       "      <td>2</td>\n",
       "      <td>7</td>\n",
       "      <td>5</td>\n",
       "      <td>...</td>\n",
       "      <td>61</td>\n",
       "      <td>0</td>\n",
       "      <td>0</td>\n",
       "      <td>0</td>\n",
       "      <td>0</td>\n",
       "      <td>NaN</td>\n",
       "      <td>0</td>\n",
       "      <td>2</td>\n",
       "      <td>2008</td>\n",
       "      <td>208500</td>\n",
       "    </tr>\n",
       "    <tr>\n",
       "      <th>2</th>\n",
       "      <td>20</td>\n",
       "      <td>80.0</td>\n",
       "      <td>9600</td>\n",
       "      <td>1</td>\n",
       "      <td>3</td>\n",
       "      <td>3</td>\n",
       "      <td>3</td>\n",
       "      <td>2</td>\n",
       "      <td>6</td>\n",
       "      <td>8</td>\n",
       "      <td>...</td>\n",
       "      <td>0</td>\n",
       "      <td>0</td>\n",
       "      <td>0</td>\n",
       "      <td>0</td>\n",
       "      <td>0</td>\n",
       "      <td>NaN</td>\n",
       "      <td>0</td>\n",
       "      <td>5</td>\n",
       "      <td>2007</td>\n",
       "      <td>181500</td>\n",
       "    </tr>\n",
       "    <tr>\n",
       "      <th>3</th>\n",
       "      <td>60</td>\n",
       "      <td>68.0</td>\n",
       "      <td>11250</td>\n",
       "      <td>1</td>\n",
       "      <td>2</td>\n",
       "      <td>3</td>\n",
       "      <td>3</td>\n",
       "      <td>2</td>\n",
       "      <td>7</td>\n",
       "      <td>5</td>\n",
       "      <td>...</td>\n",
       "      <td>42</td>\n",
       "      <td>0</td>\n",
       "      <td>0</td>\n",
       "      <td>0</td>\n",
       "      <td>0</td>\n",
       "      <td>NaN</td>\n",
       "      <td>0</td>\n",
       "      <td>9</td>\n",
       "      <td>2008</td>\n",
       "      <td>223500</td>\n",
       "    </tr>\n",
       "    <tr>\n",
       "      <th>4</th>\n",
       "      <td>70</td>\n",
       "      <td>60.0</td>\n",
       "      <td>9550</td>\n",
       "      <td>1</td>\n",
       "      <td>2</td>\n",
       "      <td>3</td>\n",
       "      <td>3</td>\n",
       "      <td>2</td>\n",
       "      <td>7</td>\n",
       "      <td>5</td>\n",
       "      <td>...</td>\n",
       "      <td>35</td>\n",
       "      <td>272</td>\n",
       "      <td>0</td>\n",
       "      <td>0</td>\n",
       "      <td>0</td>\n",
       "      <td>NaN</td>\n",
       "      <td>0</td>\n",
       "      <td>2</td>\n",
       "      <td>2006</td>\n",
       "      <td>140000</td>\n",
       "    </tr>\n",
       "    <tr>\n",
       "      <th>5</th>\n",
       "      <td>60</td>\n",
       "      <td>84.0</td>\n",
       "      <td>14260</td>\n",
       "      <td>1</td>\n",
       "      <td>2</td>\n",
       "      <td>3</td>\n",
       "      <td>3</td>\n",
       "      <td>2</td>\n",
       "      <td>8</td>\n",
       "      <td>5</td>\n",
       "      <td>...</td>\n",
       "      <td>84</td>\n",
       "      <td>0</td>\n",
       "      <td>0</td>\n",
       "      <td>0</td>\n",
       "      <td>0</td>\n",
       "      <td>NaN</td>\n",
       "      <td>0</td>\n",
       "      <td>12</td>\n",
       "      <td>2008</td>\n",
       "      <td>250000</td>\n",
       "    </tr>\n",
       "  </tbody>\n",
       "</table>\n",
       "<p>5 rows × 56 columns</p>\n",
       "</div>"
      ],
      "text/plain": [
       "    MSSubClass  LotFrontage  LotArea  Street  LotShape  LandContour  \\\n",
       "Id                                                                    \n",
       "1           60         65.0     8450       1         3            3   \n",
       "2           20         80.0     9600       1         3            3   \n",
       "3           60         68.0    11250       1         2            3   \n",
       "4           70         60.0     9550       1         2            3   \n",
       "5           60         84.0    14260       1         2            3   \n",
       "\n",
       "    Utilities  LandSlope  OverallQual  OverallCond  ...  OpenPorchSF  \\\n",
       "Id                                                  ...                \n",
       "1           3          2            7            5  ...           61   \n",
       "2           3          2            6            8  ...            0   \n",
       "3           3          2            7            5  ...           42   \n",
       "4           3          2            7            5  ...           35   \n",
       "5           3          2            8            5  ...           84   \n",
       "\n",
       "    EnclosedPorch  3SsnPorch  ScreenPorch  PoolArea  PoolQC  MiscVal  MoSold  \\\n",
       "Id                                                                             \n",
       "1               0          0            0         0     NaN        0       2   \n",
       "2               0          0            0         0     NaN        0       5   \n",
       "3               0          0            0         0     NaN        0       9   \n",
       "4             272          0            0         0     NaN        0       2   \n",
       "5               0          0            0         0     NaN        0      12   \n",
       "\n",
       "    YrSold  SalePrice  \n",
       "Id                     \n",
       "1     2008     208500  \n",
       "2     2007     181500  \n",
       "3     2008     223500  \n",
       "4     2006     140000  \n",
       "5     2008     250000  \n",
       "\n",
       "[5 rows x 56 columns]"
      ]
     },
     "execution_count": 2,
     "metadata": {},
     "output_type": "execute_result"
    }
   ],
   "source": [
    "data=pd.read_parquet(r'C:\\Users\\Adi\\Desktop\\Data science project\\data science rune\\DataScienceWithPython-main\\jupyter\\starter\\files\\house_sales.parquet')\n",
    "data.head()"
   ]
  },
  {
   "cell_type": "markdown",
   "id": "355cf415",
   "metadata": {},
   "source": [
    "# Step 1.c: Inspect the data\n",
    "Check the number of rows and columns\n",
    "HINT: .shape"
   ]
  },
  {
   "cell_type": "code",
   "execution_count": 3,
   "id": "6256166b",
   "metadata": {},
   "outputs": [
    {
     "data": {
      "text/plain": [
       "(1460, 56)"
      ]
     },
     "execution_count": 3,
     "metadata": {},
     "output_type": "execute_result"
    }
   ],
   "source": [
    "data.shape"
   ]
  },
  {
   "cell_type": "markdown",
   "id": "a2a94472",
   "metadata": {},
   "source": [
    "# tep 2: Prepare\n",
    "Explore data\n",
    "Visualize ideas\n",
    "Cleaning data\n",
    "Step 2.a: Check the data types\n",
    "This step tells you if some numeric column is not represented numeric.\n",
    "Get the data types by .dtypes"
   ]
  },
  {
   "cell_type": "code",
   "execution_count": 4,
   "id": "13a33033",
   "metadata": {},
   "outputs": [
    {
     "data": {
      "text/plain": [
       "MSSubClass         int64\n",
       "LotFrontage      float64\n",
       "LotArea            int64\n",
       "Street             int64\n",
       "LotShape           int64\n",
       "LandContour        int64\n",
       "Utilities          int64\n",
       "LandSlope          int64\n",
       "OverallQual        int64\n",
       "OverallCond        int64\n",
       "YearBuilt          int64\n",
       "YearRemodAdd       int64\n",
       "MasVnrArea       float64\n",
       "ExterQual          int64\n",
       "ExterCond          int64\n",
       "BsmtQual         float64\n",
       "BsmtCond         float64\n",
       "BsmtExposure     float64\n",
       "BsmtFinType1     float64\n",
       "BsmtFinSF1         int64\n",
       "BsmtFinType2     float64\n",
       "BsmtFinSF2         int64\n",
       "BsmtUnfSF          int64\n",
       "TotalBsmtSF        int64\n",
       "HeatingQC          int64\n",
       "CentralAir         int64\n",
       "1stFlrSF           int64\n",
       "2ndFlrSF           int64\n",
       "LowQualFinSF       int64\n",
       "GrLivArea          int64\n",
       "BsmtFullBath       int64\n",
       "BsmtHalfBath       int64\n",
       "FullBath           int64\n",
       "HalfBath           int64\n",
       "BedroomAbvGr       int64\n",
       "KitchenAbvGr       int64\n",
       "KitchenQual        int64\n",
       "TotRmsAbvGrd       int64\n",
       "Fireplaces         int64\n",
       "FireplaceQu      float64\n",
       "GarageYrBlt      float64\n",
       "GarageCars         int64\n",
       "GarageArea         int64\n",
       "GarageQual       float64\n",
       "GarageCond       float64\n",
       "WoodDeckSF         int64\n",
       "OpenPorchSF        int64\n",
       "EnclosedPorch      int64\n",
       "3SsnPorch          int64\n",
       "ScreenPorch        int64\n",
       "PoolArea           int64\n",
       "PoolQC           float64\n",
       "MiscVal            int64\n",
       "MoSold             int64\n",
       "YrSold             int64\n",
       "SalePrice          int64\n",
       "dtype: object"
      ]
     },
     "execution_count": 4,
     "metadata": {},
     "output_type": "execute_result"
    }
   ],
   "source": [
    "data.dtypes"
   ]
  },
  {
   "cell_type": "markdown",
   "id": "e1657f4b",
   "metadata": {},
   "source": [
    "# Step 2.b: Check for null (missing) values\n",
    "Let's check if any features are not valuable\n",
    "Use .info()\n",
    "Should we remove any?\n",
    "You can remove features (columns):\n",
    "\n",
    "data.drop([, ..., ], axis=1)\n",
    "\n",
    "- If you keep some with missing value you can add -1 `fillna(-1)`\n",
    "    - Notice: This is not a validated or good approach - but for this purpose it will do"
   ]
  },
  {
   "cell_type": "code",
   "execution_count": 5,
   "id": "df5abb7c",
   "metadata": {},
   "outputs": [
    {
     "name": "stdout",
     "output_type": "stream",
     "text": [
      "<class 'pandas.core.frame.DataFrame'>\n",
      "Int64Index: 1460 entries, 1 to 1460\n",
      "Data columns (total 56 columns):\n",
      " #   Column         Non-Null Count  Dtype  \n",
      "---  ------         --------------  -----  \n",
      " 0   MSSubClass     1460 non-null   int64  \n",
      " 1   LotFrontage    1201 non-null   float64\n",
      " 2   LotArea        1460 non-null   int64  \n",
      " 3   Street         1460 non-null   int64  \n",
      " 4   LotShape       1460 non-null   int64  \n",
      " 5   LandContour    1460 non-null   int64  \n",
      " 6   Utilities      1460 non-null   int64  \n",
      " 7   LandSlope      1460 non-null   int64  \n",
      " 8   OverallQual    1460 non-null   int64  \n",
      " 9   OverallCond    1460 non-null   int64  \n",
      " 10  YearBuilt      1460 non-null   int64  \n",
      " 11  YearRemodAdd   1460 non-null   int64  \n",
      " 12  MasVnrArea     1452 non-null   float64\n",
      " 13  ExterQual      1460 non-null   int64  \n",
      " 14  ExterCond      1460 non-null   int64  \n",
      " 15  BsmtQual       1423 non-null   float64\n",
      " 16  BsmtCond       1423 non-null   float64\n",
      " 17  BsmtExposure   1422 non-null   float64\n",
      " 18  BsmtFinType1   1423 non-null   float64\n",
      " 19  BsmtFinSF1     1460 non-null   int64  \n",
      " 20  BsmtFinType2   1422 non-null   float64\n",
      " 21  BsmtFinSF2     1460 non-null   int64  \n",
      " 22  BsmtUnfSF      1460 non-null   int64  \n",
      " 23  TotalBsmtSF    1460 non-null   int64  \n",
      " 24  HeatingQC      1460 non-null   int64  \n",
      " 25  CentralAir     1460 non-null   int64  \n",
      " 26  1stFlrSF       1460 non-null   int64  \n",
      " 27  2ndFlrSF       1460 non-null   int64  \n",
      " 28  LowQualFinSF   1460 non-null   int64  \n",
      " 29  GrLivArea      1460 non-null   int64  \n",
      " 30  BsmtFullBath   1460 non-null   int64  \n",
      " 31  BsmtHalfBath   1460 non-null   int64  \n",
      " 32  FullBath       1460 non-null   int64  \n",
      " 33  HalfBath       1460 non-null   int64  \n",
      " 34  BedroomAbvGr   1460 non-null   int64  \n",
      " 35  KitchenAbvGr   1460 non-null   int64  \n",
      " 36  KitchenQual    1460 non-null   int64  \n",
      " 37  TotRmsAbvGrd   1460 non-null   int64  \n",
      " 38  Fireplaces     1460 non-null   int64  \n",
      " 39  FireplaceQu    770 non-null    float64\n",
      " 40  GarageYrBlt    1379 non-null   float64\n",
      " 41  GarageCars     1460 non-null   int64  \n",
      " 42  GarageArea     1460 non-null   int64  \n",
      " 43  GarageQual     1379 non-null   float64\n",
      " 44  GarageCond     1379 non-null   float64\n",
      " 45  WoodDeckSF     1460 non-null   int64  \n",
      " 46  OpenPorchSF    1460 non-null   int64  \n",
      " 47  EnclosedPorch  1460 non-null   int64  \n",
      " 48  3SsnPorch      1460 non-null   int64  \n",
      " 49  ScreenPorch    1460 non-null   int64  \n",
      " 50  PoolArea       1460 non-null   int64  \n",
      " 51  PoolQC         7 non-null      float64\n",
      " 52  MiscVal        1460 non-null   int64  \n",
      " 53  MoSold         1460 non-null   int64  \n",
      " 54  YrSold         1460 non-null   int64  \n",
      " 55  SalePrice      1460 non-null   int64  \n",
      "dtypes: float64(12), int64(44)\n",
      "memory usage: 650.2 KB\n"
     ]
    }
   ],
   "source": [
    "data.info()"
   ]
  },
  {
   "cell_type": "code",
   "execution_count": 9,
   "id": "029d96d0",
   "metadata": {},
   "outputs": [],
   "source": [
    "data=data.drop('PoolQC',axis=1)"
   ]
  },
  {
   "cell_type": "code",
   "execution_count": 10,
   "id": "493b4cc8",
   "metadata": {},
   "outputs": [],
   "source": [
    "data=data.fillna(-1)"
   ]
  },
  {
   "cell_type": "markdown",
   "id": "328cc5a8",
   "metadata": {},
   "source": [
    "# Step 3: Analyze\n",
    "Feature selection\n",
    "Model selection\n",
    "Analyze data\n",
    "Step 3.a: Quasi constant features\n",
    "Let see if there are any quasi features\n",
    "Create a VarianceThreshold(threshold=0.01) and fit it\n",
    "The features that are not quasi constant are given by sel.get_feature_names_out()\n",
    "Get all the qausi features as with list comprehension\n",
    " "
   ]
  },
  {
   "cell_type": "code",
   "execution_count": 11,
   "id": "dca72a0a",
   "metadata": {},
   "outputs": [],
   "source": [
    "sel=VarianceThreshold(threshold=0.01)"
   ]
  },
  {
   "cell_type": "code",
   "execution_count": 12,
   "id": "97ba2214",
   "metadata": {},
   "outputs": [
    {
     "data": {
      "text/plain": [
       "VarianceThreshold(threshold=0.01)"
      ]
     },
     "execution_count": 12,
     "metadata": {},
     "output_type": "execute_result"
    }
   ],
   "source": [
    "sel.fit(data)"
   ]
  },
  {
   "cell_type": "code",
   "execution_count": 13,
   "id": "28ae8fc9",
   "metadata": {},
   "outputs": [
    {
     "data": {
      "text/plain": [
       "53"
      ]
     },
     "execution_count": 13,
     "metadata": {},
     "output_type": "execute_result"
    }
   ],
   "source": [
    "len(sel.get_feature_names_out())"
   ]
  },
  {
   "cell_type": "code",
   "execution_count": 14,
   "id": "6b14530d",
   "metadata": {},
   "outputs": [],
   "source": [
    "quasi_feature=[col for col in data.columns if col not in sel.get_feature_names_out()]"
   ]
  },
  {
   "cell_type": "code",
   "execution_count": 15,
   "id": "0a9362cf",
   "metadata": {},
   "outputs": [
    {
     "data": {
      "text/plain": [
       "['Street', 'Utilities']"
      ]
     },
     "execution_count": 15,
     "metadata": {},
     "output_type": "execute_result"
    }
   ],
   "source": [
    "quasi_feature"
   ]
  },
  {
   "cell_type": "markdown",
   "id": "b02fc92b",
   "metadata": {},
   "source": [
    "# Step 3.b: Correlated features\n",
    "Calculate the correlation matrix corr_matrix and inspect it\n",
    "HINT: use .corr()\n",
    "Get all the correlated features\n",
    "HINT: A feature is correlated to a feature before it if\n",
    "(corr_matrix[feature].iloc[:corr_matrix.columns.get_loc(feature)] > 0.8).any()\n",
    "- HINT: Use list comprehension to get a list of the correlated features"
   ]
  },
  {
   "cell_type": "code",
   "execution_count": 16,
   "id": "12176552",
   "metadata": {},
   "outputs": [],
   "source": [
    "corr_matrix=data.corr()"
   ]
  },
  {
   "cell_type": "code",
   "execution_count": 26,
   "id": "a2397d8e",
   "metadata": {},
   "outputs": [],
   "source": [
    "corr_feature=[feature for feature in corr_matrix.columns if (corr_matrix[feature].iloc[:corr_matrix.columns.get_loc(feature)]>0.8).any()]"
   ]
  },
  {
   "cell_type": "code",
   "execution_count": 27,
   "id": "ffe64db4",
   "metadata": {},
   "outputs": [
    {
     "data": {
      "text/plain": [
       "['1stFlrSF',\n",
       " 'TotRmsAbvGrd',\n",
       " 'FireplaceQu',\n",
       " 'GarageArea',\n",
       " 'GarageQual',\n",
       " 'GarageCond']"
      ]
     },
     "execution_count": 27,
     "metadata": {},
     "output_type": "execute_result"
    }
   ],
   "source": [
    "corr_feature"
   ]
  },
  {
   "cell_type": "markdown",
   "id": "c7481f19",
   "metadata": {},
   "source": [
    "# Step 3.c: Prepare training and test set\n",
    "Assign all features in X\n",
    "HINT: Use .drop(['SalePrice'] + quasi_features + corr_features, axis=1)\n",
    "(assuming the same naming)\n",
    "Assign the target to y\n",
    "HINT: The target is column SalePrice\n",
    "Split into train and test using train_test_split"
   ]
  },
  {
   "cell_type": "code",
   "execution_count": 28,
   "id": "092484ec",
   "metadata": {},
   "outputs": [],
   "source": [
    "x=data.drop(['SalePrice']+quasi_feature+corr_feature,axis=1)\n",
    "y=data['SalePrice']"
   ]
  },
  {
   "cell_type": "code",
   "execution_count": 31,
   "id": "a7bcebfa",
   "metadata": {},
   "outputs": [],
   "source": [
    "x_train,x_test,y_train,y_test=train_test_split(x,y,random_state=0)\n",
    "                                              "
   ]
  },
  {
   "cell_type": "markdown",
   "id": "3da65a56",
   "metadata": {},
   "source": [
    "# Step 3.d: 10 best features for LinearRegression model\n",
    "Use the SFS to find 10 best features for a LinearRegression model\n",
    "HINT: SFS(LinearRegression(), k_features=10, verbose=2)\n",
    "HINT: when fitting fill missing values or remove them\n",
    "Notice: ideally we would investigate them further to find appropriate values\n",
    "You get the best feature index from .k_feature_idx_"
   ]
  },
  {
   "cell_type": "code",
   "execution_count": 33,
   "id": "6e4becba",
   "metadata": {},
   "outputs": [],
   "source": [
    "sfs=SFS(LinearRegression(),k_features=10,verbose=2)"
   ]
  },
  {
   "cell_type": "code",
   "execution_count": 34,
   "id": "7c465fc3",
   "metadata": {},
   "outputs": [
    {
     "name": "stderr",
     "output_type": "stream",
     "text": [
      "[Parallel(n_jobs=1)]: Using backend SequentialBackend with 1 concurrent workers.\n",
      "[Parallel(n_jobs=1)]: Done   1 out of   1 | elapsed:    0.0s remaining:    0.0s\n",
      "[Parallel(n_jobs=1)]: Done  46 out of  46 | elapsed:    0.7s finished\n",
      "\n",
      "[2023-01-03 22:55:58] Features: 1/10 -- score: 0.6126893627288714[Parallel(n_jobs=1)]: Using backend SequentialBackend with 1 concurrent workers.\n",
      "[Parallel(n_jobs=1)]: Done   1 out of   1 | elapsed:    0.0s remaining:    0.0s\n",
      "[Parallel(n_jobs=1)]: Done  45 out of  45 | elapsed:    0.7s finished\n",
      "\n",
      "[2023-01-03 22:55:59] Features: 2/10 -- score: 0.7190976519156257[Parallel(n_jobs=1)]: Using backend SequentialBackend with 1 concurrent workers.\n",
      "[Parallel(n_jobs=1)]: Done   1 out of   1 | elapsed:    0.0s remaining:    0.0s\n",
      "[Parallel(n_jobs=1)]: Done  44 out of  44 | elapsed:    0.6s finished\n",
      "\n",
      "[2023-01-03 22:55:59] Features: 3/10 -- score: 0.7711947823299818[Parallel(n_jobs=1)]: Using backend SequentialBackend with 1 concurrent workers.\n",
      "[Parallel(n_jobs=1)]: Done   1 out of   1 | elapsed:    0.0s remaining:    0.0s\n",
      "[Parallel(n_jobs=1)]: Done  43 out of  43 | elapsed:    0.5s finished\n",
      "\n",
      "[2023-01-03 22:56:00] Features: 4/10 -- score: 0.7940453445923807[Parallel(n_jobs=1)]: Using backend SequentialBackend with 1 concurrent workers.\n",
      "[Parallel(n_jobs=1)]: Done   1 out of   1 | elapsed:    0.0s remaining:    0.0s\n",
      "[Parallel(n_jobs=1)]: Done  42 out of  42 | elapsed:    0.6s finished\n",
      "\n",
      "[2023-01-03 22:56:01] Features: 5/10 -- score: 0.8078796820663875[Parallel(n_jobs=1)]: Using backend SequentialBackend with 1 concurrent workers.\n",
      "[Parallel(n_jobs=1)]: Done   1 out of   1 | elapsed:    0.0s remaining:    0.0s\n",
      "[Parallel(n_jobs=1)]: Done  41 out of  41 | elapsed:    0.5s finished\n",
      "\n",
      "[2023-01-03 22:56:01] Features: 6/10 -- score: 0.8171905228370508[Parallel(n_jobs=1)]: Using backend SequentialBackend with 1 concurrent workers.\n",
      "[Parallel(n_jobs=1)]: Done   1 out of   1 | elapsed:    0.0s remaining:    0.0s\n",
      "[Parallel(n_jobs=1)]: Done  40 out of  40 | elapsed:    0.7s finished\n",
      "\n",
      "[2023-01-03 22:56:02] Features: 7/10 -- score: 0.8248996546748849[Parallel(n_jobs=1)]: Using backend SequentialBackend with 1 concurrent workers.\n",
      "[Parallel(n_jobs=1)]: Done   1 out of   1 | elapsed:    0.0s remaining:    0.0s\n",
      "[Parallel(n_jobs=1)]: Done  39 out of  39 | elapsed:    0.7s finished\n",
      "\n",
      "[2023-01-03 22:56:03] Features: 8/10 -- score: 0.8290551509684357[Parallel(n_jobs=1)]: Using backend SequentialBackend with 1 concurrent workers.\n",
      "[Parallel(n_jobs=1)]: Done   1 out of   1 | elapsed:    0.0s remaining:    0.0s\n",
      "[Parallel(n_jobs=1)]: Done  38 out of  38 | elapsed:    0.7s finished\n",
      "\n",
      "[2023-01-03 22:56:04] Features: 9/10 -- score: 0.8335999430273068[Parallel(n_jobs=1)]: Using backend SequentialBackend with 1 concurrent workers.\n",
      "[Parallel(n_jobs=1)]: Done   1 out of   1 | elapsed:    0.0s remaining:    0.0s\n",
      "[Parallel(n_jobs=1)]: Done  37 out of  37 | elapsed:    0.7s finished\n",
      "\n",
      "[2023-01-03 22:56:05] Features: 10/10 -- score: 0.8368859078710507"
     ]
    },
    {
     "data": {
      "text/plain": [
       "SequentialFeatureSelector(estimator=LinearRegression(), k_features=(10, 10),\n",
       "                          scoring='r2', verbose=2)"
      ]
     },
     "execution_count": 34,
     "metadata": {},
     "output_type": "execute_result"
    }
   ],
   "source": [
    "sfs.fit(x_train,y_train)"
   ]
  },
  {
   "cell_type": "code",
   "execution_count": 36,
   "id": "3936230c",
   "metadata": {},
   "outputs": [
    {
     "data": {
      "text/plain": [
       "(0, 2, 6, 10, 11, 15, 17, 26, 33, 36)"
      ]
     },
     "execution_count": 36,
     "metadata": {},
     "output_type": "execute_result"
    }
   ],
   "source": [
    "sfs.k_feature_idx_"
   ]
  },
  {
   "cell_type": "markdown",
   "id": "d6b406ac",
   "metadata": {},
   "source": [
    "# Step 3.e: Test the result\n",
    "Create a normal LinearRegression model and run it on full data and calculate the r2_score\n",
    "Then do the same for only the 10 best features\n",
    "Did the score surprice you?\n",
    "Notice that the test score is far from as good as from SFS"
   ]
  },
  {
   "cell_type": "code",
   "execution_count": 37,
   "id": "23ef96e7",
   "metadata": {},
   "outputs": [
    {
     "data": {
      "text/plain": [
       "0.7110172392141758"
      ]
     },
     "execution_count": 37,
     "metadata": {},
     "output_type": "execute_result"
    }
   ],
   "source": [
    "lin=LinearRegression()\n",
    "lin.fit(x_train,y_train)\n",
    "y_pred=lin.predict(x_test)\n",
    "r2_score(y_test,y_pred)"
   ]
  },
  {
   "cell_type": "code",
   "execution_count": null,
   "id": "dc7e5886",
   "metadata": {},
   "outputs": [],
   "source": []
  },
  {
   "cell_type": "markdown",
   "id": "318c0a8c",
   "metadata": {},
   "source": [
    "# Step 3.f: Test with 10 highest correlated features\n",
    "Find the 10 highest correlated features\n",
    "HITN: corr_matrix['SalePrice'].sort_values(ascending=False)\n",
    "Then calculate the r2_score for them.\n",
    "Does the score surprice you?"
   ]
  },
  {
   "cell_type": "code",
   "execution_count": 39,
   "id": "49a4c7a4",
   "metadata": {},
   "outputs": [
    {
     "data": {
      "text/plain": [
       "0.7239540198372449"
      ]
     },
     "execution_count": 39,
     "metadata": {},
     "output_type": "execute_result"
    }
   ],
   "source": [
    "lin=LinearRegression()\n",
    "columns=x_train.columns[list(sfs.k_feature_idx_)]\n",
    "lin.fit(x_train[columns],y_train)\n",
    "y_pred=lin.predict(x_test[columns])\n",
    "r2_score(y_test,y_pred)"
   ]
  },
  {
   "cell_type": "code",
   "execution_count": 44,
   "id": "90f0dbd4",
   "metadata": {},
   "outputs": [],
   "source": [
    "columns=corr_matrix['SalePrice'].sort_values(ascending=False)[1:11].index"
   ]
  },
  {
   "cell_type": "code",
   "execution_count": 46,
   "id": "ccb805e9",
   "metadata": {},
   "outputs": [
    {
     "data": {
      "text/plain": [
       "0.6807712508824174"
      ]
     },
     "execution_count": 46,
     "metadata": {},
     "output_type": "execute_result"
    }
   ],
   "source": [
    "x_train,x_test,y_train,y_test=train_test_split(data.drop('SalePrice',axis=1),y,random_state=0)\n",
    "lin=LinearRegression()\n",
    "lin.fit(x_train[columns],y_train)\n",
    "y_pred=lin.predict(x_test[columns])\n",
    "r2_score(y_pred,y_test)"
   ]
  },
  {
   "cell_type": "markdown",
   "id": "6d949f5a",
   "metadata": {},
   "source": [
    "# Step 4: Report\n",
    "Present findings\n",
    "Visualize results\n",
    "Credibility counts\n",
    "Step 4.a: Present findings\n",
    "Use the analysis from Step 3 to figures out how to present your findings\n",
    "Try to think how the real estate dealer can use these findings"
   ]
  },
  {
   "cell_type": "code",
   "execution_count": 47,
   "id": "4c292168",
   "metadata": {},
   "outputs": [
    {
     "data": {
      "text/plain": [
       "Index(['MSSubClass', 'LotArea', 'Utilities', 'YearBuilt', 'YearRemodAdd',\n",
       "       'BsmtQual', 'BsmtExposure', '1stFlrSF', 'HalfBath', 'KitchenQual'],\n",
       "      dtype='object')"
      ]
     },
     "execution_count": 47,
     "metadata": {},
     "output_type": "execute_result"
    }
   ],
   "source": [
    "#feature that mattere the most\n",
    "x_train.columns[list(sfs.k_feature_idx_)]"
   ]
  },
  {
   "cell_type": "code",
   "execution_count": null,
   "id": "42381787",
   "metadata": {},
   "outputs": [],
   "source": []
  }
 ],
 "metadata": {
  "kernelspec": {
   "display_name": "Python 3 (ipykernel)",
   "language": "python",
   "name": "python3"
  },
  "language_info": {
   "codemirror_mode": {
    "name": "ipython",
    "version": 3
   },
   "file_extension": ".py",
   "mimetype": "text/x-python",
   "name": "python",
   "nbconvert_exporter": "python",
   "pygments_lexer": "ipython3",
   "version": "3.9.13"
  }
 },
 "nbformat": 4,
 "nbformat_minor": 5
}
